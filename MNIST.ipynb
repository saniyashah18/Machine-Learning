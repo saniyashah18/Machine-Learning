{
 "cells": [
  {
   "cell_type": "code",
   "execution_count": 2,
   "metadata": {},
   "outputs": [],
   "source": [
    "# import libraries\n",
    "import pandas as pd\n",
    "import numpy\n",
    "import matplotlib.pyplot as plt, matplotlib.image as mpimg\n",
    "from sklearn.model_selection import train_test_split\n",
    "from sklearn import svm\n",
    "%matplotlib inline\n",
    "\n",
    "# import the training data\n",
    "labeled_images = pd.read_csv('train.csv')\n",
    "\n",
    "# separate the training data into the pixel array and the label matrix (X,Y)\n",
    "train_images = labeled_images.iloc[0:,1:]\n",
    "train_labels = labeled_images.iloc[0:,:1]\n",
    "\n",
    "# change the image from gray scale to black and white to make the classifier run more efficiently\n",
    "train_images[train_images>0]=1"
   ]
  },
  {
   "cell_type": "code",
   "execution_count": 3,
   "metadata": {},
   "outputs": [],
   "source": [
    "# Question 1.(a) Display one of each digit\n",
    "\n",
    "# function to find the position of a given digit within a data set\n",
    "def find_first_num(labels, num):\n",
    "    for i in range(0,len(labels)):\n",
    "        if train_labels.iloc[i,0]==num:\n",
    "            return i\n",
    "\n",
    "# function to show a plotted image of the digit given it's position in the training data set\n",
    "def show_digit(trainer, labels, i):\n",
    "    img=trainer.iloc[i].as_matrix()\n",
    "    img=img.reshape((28,28))\n",
    "    plt.imshow(img,cmap='binary')\n",
    "    plt.title(labels.iloc[i,0])\n"
   ]
  },
  {
   "cell_type": "code",
   "execution_count": 4,
   "metadata": {},
   "outputs": [
    {
     "name": "stderr",
     "output_type": "stream",
     "text": [
      "/Users/Meera/anaconda2/lib/python2.7/site-packages/ipykernel_launcher.py:11: FutureWarning: Method .as_matrix will be removed in a future version. Use .values instead.\n",
      "  # This is added back by InteractiveShellApp.init_path()\n"
     ]
    },
    {
     "data": {
      "image/png": "[encoded data removed]",
      "text/plain": [
       "<Figure size 432x288 with 1 Axes>"
      ]
     },
     "metadata": {},
     "output_type": "display_data"
    }
   ],
   "source": [
    "# find the indices for each digit and plot their image\n",
    "index = find_first_num(train_labels, 0)\n",
    "show_digit(train_images, train_labels, index)"
   ]
  },
  {
   "cell_type": "code",
   "execution_count": 5,
   "metadata": {},
   "outputs": [
    {
     "name": "stderr",
     "output_type": "stream",
     "text": [
      "/Users/Meera/anaconda2/lib/python2.7/site-packages/ipykernel_launcher.py:11: FutureWarning: Method .as_matrix will be removed in a future version. Use .values instead.\n",
      "  # This is added back by InteractiveShellApp.init_path()\n"
     ]
    },
    {
     "data": {
      "image/png": "[encoded data removed]",
      "text/plain": [
       "<Figure size 432x288 with 1 Axes>"
      ]
     },
     "metadata": {},
     "output_type": "display_data"
    }
   ],
   "source": [
    "index = find_first_num(train_labels, 1)\n",
    "show_digit(train_images, train_labels, index)"
   ]
  },
  {
   "cell_type": "code",
   "execution_count": 6,
   "metadata": {},
   "outputs": [
    {
     "name": "stderr",
     "output_type": "stream",
     "text": [
      "/Users/Meera/anaconda2/lib/python2.7/site-packages/ipykernel_launcher.py:11: FutureWarning: Method .as_matrix will be removed in a future version. Use .values instead.\n",
      "  # This is added back by InteractiveShellApp.init_path()\n"
     ]
    },
    {
     "data": {
      "image/png": "[encoded data removed]",
      "text/plain": [
       "<Figure size 432x288 with 1 Axes>"
      ]
     },
     "metadata": {},
     "output_type": "display_data"
    }
   ],
   "source": [
    "index = find_first_num(train_labels, 2)\n",
    "show_digit(train_images, train_labels, index)"
   ]
  },
  {
   "cell_type": "code",
   "execution_count": 7,
   "metadata": {},
   "outputs": [
    {
     "name": "stderr",
     "output_type": "stream",
     "text": [
      "/Users/Meera/anaconda2/lib/python2.7/site-packages/ipykernel_launcher.py:11: FutureWarning: Method .as_matrix will be removed in a future version. Use .values instead.\n",
      "  # This is added back by InteractiveShellApp.init_path()\n"
     ]
    },
    {
     "data": {
      "image/png": "[encoded data removed]",
      "text/plain": [
       "<Figure size 432x288 with 1 Axes>"
      ]
     },
     "metadata": {},
     "output_type": "display_data"
    }
   ],
   "source": [
    "index = find_first_num(train_labels, 3)\n",
    "show_digit(train_images, train_labels, index)"
   ]
  },
  {
   "cell_type": "code",
   "execution_count": 8,
   "metadata": {},
   "outputs": [
    {
     "name": "stderr",
     "output_type": "stream",
     "text": [
      "/Users/Meera/anaconda2/lib/python2.7/site-packages/ipykernel_launcher.py:11: FutureWarning: Method .as_matrix will be removed in a future version. Use .values instead.\n",
      "  # This is added back by InteractiveShellApp.init_path()\n"
     ]
    },
    {
     "data": {
      "image/png": "[encoded data removed]",
      "text/plain": [
       "<Figure size 432x288 with 1 Axes>"
      ]
     },
     "metadata": {},
     "output_type": "display_data"
    }
   ],
   "source": [
    "index = find_first_num(train_labels, 4)\n",
    "show_digit(train_images, train_labels, index)"
   ]
  },
  {
   "cell_type": "code",
   "execution_count": 9,
   "metadata": {},
   "outputs": [
    {
     "name": "stderr",
     "output_type": "stream",
     "text": [
      "/Users/Meera/anaconda2/lib/python2.7/site-packages/ipykernel_launcher.py:11: FutureWarning: Method .as_matrix will be removed in a future version. Use .values instead.\n",
      "  # This is added back by InteractiveShellApp.init_path()\n"
     ]
    },
    {
     "data": {
      "image/png": "[encoded data removed]",
      "text/plain": [
       "<Figure size 432x288 with 1 Axes>"
      ]
     },
     "metadata": {},
     "output_type": "display_data"
    }
   ],
   "source": [
    "index = find_first_num(train_labels, 5)\n",
    "show_digit(train_images, train_labels, index)"
   ]
  },
  {
   "cell_type": "code",
   "execution_count": 10,
   "metadata": {},
   "outputs": [
    {
     "name": "stderr",
     "output_type": "stream",
     "text": [
      "/Users/Meera/anaconda2/lib/python2.7/site-packages/ipykernel_launcher.py:11: FutureWarning: Method .as_matrix will be removed in a future version. Use .values instead.\n",
      "  # This is added back by InteractiveShellApp.init_path()\n"
     ]
    },
    {
     "data": {
      "image/png": "[encoded data removed]",
      "text/plain": [
       "<Figure size 432x288 with 1 Axes>"
      ]
     },
     "metadata": {},
     "output_type": "display_data"
    }
   ],
   "source": [
    "index = find_first_num(train_labels, 6)\n",
    "show_digit(train_images, train_labels, index)"
   ]
  },
  {
   "cell_type": "code",
   "execution_count": 11,
   "metadata": {},
   "outputs": [
    {
     "name": "stderr",
     "output_type": "stream",
     "text": [
      "/Users/Meera/anaconda2/lib/python2.7/site-packages/ipykernel_launcher.py:11: FutureWarning: Method .as_matrix will be removed in a future version. Use .values instead.\n",
      "  # This is added back by InteractiveShellApp.init_path()\n"
     ]
    },
    {
     "data": {
      "image/png": "[encoded data removed]",
      "text/plain": [
       "<Figure size 432x288 with 1 Axes>"
      ]
     },
     "metadata": {},
     "output_type": "display_data"
    }
   ],
   "source": [
    "index = find_first_num(train_labels, 7)\n",
    "show_digit(train_images, train_labels, index)"
   ]
  },
  {
   "cell_type": "code",
   "execution_count": 12,
   "metadata": {},
   "outputs": [
    {
     "name": "stderr",
     "output_type": "stream",
     "text": [
      "/Users/Meera/anaconda2/lib/python2.7/site-packages/ipykernel_launcher.py:11: FutureWarning: Method .as_matrix will be removed in a future version. Use .values instead.\n",
      "  # This is added back by InteractiveShellApp.init_path()\n"
     ]
    },
    {
     "data": {
      "image/png": "[encoded data removed]",
      "text/plain": [
       "<Figure size 432x288 with 1 Axes>"
      ]
     },
     "metadata": {},
     "output_type": "display_data"
    }
   ],
   "source": [
    "index = find_first_num(train_labels, 8)\n",
    "show_digit(train_images, train_labels, index)"
   ]
  },
  {
   "cell_type": "code",
   "execution_count": 13,
   "metadata": {},
   "outputs": [
    {
     "name": "stderr",
     "output_type": "stream",
     "text": [
      "/Users/Meera/anaconda2/lib/python2.7/site-packages/ipykernel_launcher.py:11: FutureWarning: Method .as_matrix will be removed in a future version. Use .values instead.\n",
      "  # This is added back by InteractiveShellApp.init_path()\n"
     ]
    },
    {
     "data": {
      "image/png": "[encoded data removed]",
      "text/plain": [
       "<Figure size 432x288 with 1 Axes>"
      ]
     },
     "metadata": {},
     "output_type": "display_data"
    }
   ],
   "source": [
    "index = find_first_num(train_labels, 9)\n",
    "show_digit(train_images, train_labels, index)"
   ]
  },
  {
   "cell_type": "code",
   "execution_count": 14,
   "metadata": {},
   "outputs": [
    {
     "name": "stdout",
     "output_type": "stream",
     "text": [
      "The count for 0 is 4132\n",
      "The prior probability for 0 is 0.098380952381\n",
      "The count for 1 is 4684\n",
      "The prior probability for 1 is 0.111523809524\n",
      "The count for 2 is 4177\n",
      "The prior probability for 2 is 0.0994523809524\n",
      "The count for 3 is 4351\n",
      "The prior probability for 3 is 0.103595238095\n",
      "The count for 4 is 4072\n",
      "The prior probability for 4 is 0.0969523809524\n",
      "The count for 5 is 3795\n",
      "The prior probability for 5 is 0.0903571428571\n",
      "The count for 6 is 4137\n",
      "The prior probability for 6 is 0.0985\n",
      "The count for 7 is 4401\n",
      "The prior probability for 7 is 0.104785714286\n",
      "The count for 8 is 4063\n",
      "The prior probability for 8 is 0.0967380952381\n",
      "The count for 9 is 4188\n",
      "The prior probability for 9 is 0.0997142857143\n"
     ]
    }
   ],
   "source": [
    "# Question 1.(c)\n",
    "\n",
    "# calculate how many times a digit appears within the training data and establish it's prior probability\n",
    "\n",
    "for z in range(0,10):\n",
    "    x=0\n",
    "    for i in range(0,len(train_labels)):\n",
    "        if train_labels.iloc[i,0]==z:\n",
    "            x=x+1\n",
    "    \n",
    "    y = float(x) / float(len(train_labels))        \n",
    "    \n",
    "    print(\"The count for \" + str(z) + \" is \" + str(x))\n",
    "    print(\"The prior probability for \"+ str(z) + \" is \" + str(y))"
   ]
  },
  {
   "cell_type": "code",
   "execution_count": 15,
   "metadata": {},
   "outputs": [],
   "source": [
    "# put all the label values into an array so that their probability can be easily plot on a histogram\n",
    "label_array=[]\n",
    "for i in range(0,len(train_labels)):\n",
    "    label_array.append(train_labels.iloc[i,0]);"
   ]
  },
  {
   "cell_type": "code",
   "execution_count": 16,
   "metadata": {},
   "outputs": [
    {
     "name": "stderr",
     "output_type": "stream",
     "text": [
      "/Users/Meera/anaconda2/lib/python2.7/site-packages/matplotlib/axes/_axes.py:6462: UserWarning: The 'normed' kwarg is deprecated, and has been replaced by the 'density' kwarg.\n",
      "  warnings.warn(\"The 'normed' kwarg is deprecated, and has been \"\n"
     ]
    },
    {
     "data": {
      "text/plain": [
       "(array([0.10931217, 0.12391534, 0.11050265, 0.11510582, 0.10772487,\n",
       "        0.10039683, 0.10944444, 0.11642857, 0.10748677, 0.11079365]),\n",
       " array([0. , 0.9, 1.8, 2.7, 3.6, 4.5, 5.4, 6.3, 7.2, 8.1, 9. ]),\n",
       " <a list of 10 Patch objects>)"
      ]
     },
     "execution_count": 16,
     "metadata": {},
     "output_type": "execute_result"
    },
    {
     "data": {
      "image/png": "[encoded data removed]",
      "text/plain": [
       "<Figure size 432x288 with 1 Axes>"
      ]
     },
     "metadata": {},
     "output_type": "display_data"
    }
   ],
   "source": [
    "plt.hist(label_array,normed='true')"
   ]
  },
  {
   "cell_type": "code",
   "execution_count": 17,
   "metadata": {},
   "outputs": [],
   "source": [
    "# Question 1.(d)\n",
    "\n",
    "# import libraries needed for this question\n",
    "from sklearn.metrics.pairwise import euclidean_distances\n",
    "from scipy.spatial import distance\n",
    "import numpy"
   ]
  },
  {
   "cell_type": "code",
   "execution_count": 18,
   "metadata": {},
   "outputs": [
    {
     "name": "stderr",
     "output_type": "stream",
     "text": [
      "/Users/Meera/anaconda2/lib/python2.7/site-packages/ipykernel_launcher.py:11: FutureWarning: Method .as_matrix will be removed in a future version. Use .values instead.\n",
      "  # This is added back by InteractiveShellApp.init_path()\n"
     ]
    },
    {
     "data": {
      "image/png": "[encoded data removed]",
      "text/plain": [
       "<Figure size 432x288 with 1 Axes>"
      ]
     },
     "metadata": {},
     "output_type": "display_data"
    }
   ],
   "source": [
    "# find the euclidean distance between the first occurance of the digit and every other image in the training data\n",
    "# and plot it to verify it is the correct match\n",
    "\n",
    "index = find_first_num(train_labels, 0)\n",
    "dist = distance.cdist(train_images, train_images.iloc[[index]], 'euclidean')\n",
    "\n",
    "t=0\n",
    "\n",
    "for i in range(len(dist)):\n",
    "    if dist[i] != 0:\n",
    "        if dist[i]<dist[t]:\n",
    "            t=i\n",
    "            \n",
    "show_digit(train_images, train_labels, t)"
   ]
  },
  {
   "cell_type": "code",
   "execution_count": 19,
   "metadata": {},
   "outputs": [
    {
     "name": "stderr",
     "output_type": "stream",
     "text": [
      "/Users/Meera/anaconda2/lib/python2.7/site-packages/ipykernel_launcher.py:11: FutureWarning: Method .as_matrix will be removed in a future version. Use .values instead.\n",
      "  # This is added back by InteractiveShellApp.init_path()\n"
     ]
    },
    {
     "data": {
      "image/png": "[encoded data removed]",
      "text/plain": [
       "<Figure size 432x288 with 1 Axes>"
      ]
     },
     "metadata": {},
     "output_type": "display_data"
    }
   ],
   "source": [
    "index = find_first_num(train_labels, 1)\n",
    "dist = distance.cdist(train_images, train_images.iloc[[index]], 'euclidean')\n",
    "\n",
    "t=0\n",
    "\n",
    "for i in range(len(dist)):\n",
    "    if dist[i] != 0:\n",
    "        if dist[i]<dist[t]:\n",
    "            t=i\n",
    "            \n",
    "show_digit(train_images, train_labels, t)"
   ]
  },
  {
   "cell_type": "code",
   "execution_count": 20,
   "metadata": {},
   "outputs": [
    {
     "name": "stderr",
     "output_type": "stream",
     "text": [
      "/Users/Meera/anaconda2/lib/python2.7/site-packages/ipykernel_launcher.py:11: FutureWarning: Method .as_matrix will be removed in a future version. Use .values instead.\n",
      "  # This is added back by InteractiveShellApp.init_path()\n"
     ]
    },
    {
     "data": {
      "image/png": "[encoded data removed]",
      "text/plain": [
       "<Figure size 432x288 with 1 Axes>"
      ]
     },
     "metadata": {},
     "output_type": "display_data"
    }
   ],
   "source": [
    "index = find_first_num(train_labels, 2)\n",
    "dist = distance.cdist(train_images, train_images.iloc[[index]], 'euclidean')\n",
    "\n",
    "t=0\n",
    "\n",
    "for i in range(len(dist)):\n",
    "    if dist[i] != 0:\n",
    "        if dist[i]<dist[t]:\n",
    "            t=i\n",
    "            \n",
    "show_digit(train_images, train_labels, t)"
   ]
  },
  {
   "cell_type": "code",
   "execution_count": 21,
   "metadata": {},
   "outputs": [
    {
     "name": "stderr",
     "output_type": "stream",
     "text": [
      "/Users/Meera/anaconda2/lib/python2.7/site-packages/ipykernel_launcher.py:11: FutureWarning: Method .as_matrix will be removed in a future version. Use .values instead.\n",
      "  # This is added back by InteractiveShellApp.init_path()\n"
     ]
    },
    {
     "data": {
      "image/png": "[encoded data removed]",
      "text/plain": [
       "<Figure size 432x288 with 1 Axes>"
      ]
     },
     "metadata": {},
     "output_type": "display_data"
    }
   ],
   "source": [
    "index = find_first_num(train_labels, 3)\n",
    "dist = distance.cdist(train_images, train_images.iloc[[index]], 'euclidean')\n",
    "\n",
    "t=0\n",
    "\n",
    "for i in range(len(dist)):\n",
    "    if dist[i] != 0:\n",
    "        if dist[i]<dist[t]:\n",
    "            t=i\n",
    "            \n",
    "show_digit(train_images, train_labels, t)"
   ]
  },
  {
   "cell_type": "code",
   "execution_count": 22,
   "metadata": {},
   "outputs": [
    {
     "name": "stderr",
     "output_type": "stream",
     "text": [
      "/Users/Meera/anaconda2/lib/python2.7/site-packages/ipykernel_launcher.py:11: FutureWarning: Method .as_matrix will be removed in a future version. Use .values instead.\n",
      "  # This is added back by InteractiveShellApp.init_path()\n"
     ]
    },
    {
     "data": {
      "image/png": "[encoded data removed]",
      "text/plain": [
       "<Figure size 432x288 with 1 Axes>"
      ]
     },
     "metadata": {},
     "output_type": "display_data"
    }
   ],
   "source": [
    "index = find_first_num(train_labels, 4)\n",
    "dist = distance.cdist(train_images, train_images.iloc[[index]], 'euclidean')\n",
    "\n",
    "t=0\n",
    "\n",
    "for i in range(len(dist)):\n",
    "    if dist[i] != 0:\n",
    "        if dist[i]<dist[t]:\n",
    "            t=i\n",
    "\n",
    "# this is the first incorrect match. We received a 9 instead of a 4\n",
    "show_digit(train_images, train_labels, t)"
   ]
  },
  {
   "cell_type": "code",
   "execution_count": 23,
   "metadata": {},
   "outputs": [
    {
     "name": "stderr",
     "output_type": "stream",
     "text": [
      "/Users/Meera/anaconda2/lib/python2.7/site-packages/ipykernel_launcher.py:11: FutureWarning: Method .as_matrix will be removed in a future version. Use .values instead.\n",
      "  # This is added back by InteractiveShellApp.init_path()\n"
     ]
    },
    {
     "data": {
      "image/png": "[encoded data removed]",
      "text/plain": [
       "<Figure size 432x288 with 1 Axes>"
      ]
     },
     "metadata": {},
     "output_type": "display_data"
    }
   ],
   "source": [
    "index = find_first_num(train_labels, 5)\n",
    "dist = distance.cdist(train_images, train_images.iloc[[index]], 'euclidean')\n",
    "\n",
    "t=0\n",
    "\n",
    "for i in range(len(dist)):\n",
    "    if dist[i] != 0:\n",
    "        if dist[i]<dist[t]:\n",
    "            t=i\n",
    "            \n",
    "show_digit(train_images, train_labels, t)"
   ]
  },
  {
   "cell_type": "code",
   "execution_count": 24,
   "metadata": {},
   "outputs": [
    {
     "name": "stderr",
     "output_type": "stream",
     "text": [
      "/Users/Meera/anaconda2/lib/python2.7/site-packages/ipykernel_launcher.py:11: FutureWarning: Method .as_matrix will be removed in a future version. Use .values instead.\n",
      "  # This is added back by InteractiveShellApp.init_path()\n"
     ]
    },
    {
     "data": {
      "image/png": "[encoded data removed]",
      "text/plain": [
       "<Figure size 432x288 with 1 Axes>"
      ]
     },
     "metadata": {},
     "output_type": "display_data"
    }
   ],
   "source": [
    "index = find_first_num(train_labels, 6)\n",
    "dist = distance.cdist(train_images, train_images.iloc[[index]], 'euclidean')\n",
    "\n",
    "t=0\n",
    "\n",
    "for i in range(len(dist)):\n",
    "    if dist[i] != 0:\n",
    "        if dist[i]<dist[t]:\n",
    "            t=i\n",
    "            \n",
    "show_digit(train_images, train_labels, t)"
   ]
  },
  {
   "cell_type": "code",
   "execution_count": 25,
   "metadata": {},
   "outputs": [
    {
     "name": "stderr",
     "output_type": "stream",
     "text": [
      "/Users/Meera/anaconda2/lib/python2.7/site-packages/ipykernel_launcher.py:11: FutureWarning: Method .as_matrix will be removed in a future version. Use .values instead.\n",
      "  # This is added back by InteractiveShellApp.init_path()\n"
     ]
    },
    {
     "data": {
      "image/png": "[encoded data removed]",
      "text/plain": [
       "<Figure size 432x288 with 1 Axes>"
      ]
     },
     "metadata": {},
     "output_type": "display_data"
    }
   ],
   "source": [
    "index = find_first_num(train_labels, 7)\n",
    "dist = distance.cdist(train_images, train_images.iloc[[index]], 'euclidean')\n",
    "\n",
    "t=0\n",
    "\n",
    "for i in range(len(dist)):\n",
    "    if dist[i] != 0:\n",
    "        if dist[i]<dist[t]:\n",
    "            t=i\n",
    "            \n",
    "show_digit(train_images, train_labels, t)"
   ]
  },
  {
   "cell_type": "code",
   "execution_count": 26,
   "metadata": {},
   "outputs": [
    {
     "name": "stderr",
     "output_type": "stream",
     "text": [
      "/Users/Meera/anaconda2/lib/python2.7/site-packages/ipykernel_launcher.py:11: FutureWarning: Method .as_matrix will be removed in a future version. Use .values instead.\n",
      "  # This is added back by InteractiveShellApp.init_path()\n"
     ]
    },
    {
     "data": {
      "image/png": "[encoded data removed]",
      "text/plain": [
       "<Figure size 432x288 with 1 Axes>"
      ]
     },
     "metadata": {},
     "output_type": "display_data"
    }
   ],
   "source": [
    "index = find_first_num(train_labels, 8)\n",
    "dist = distance.cdist(train_images, train_images.iloc[[index]], 'euclidean')\n",
    "\n",
    "t=0\n",
    "\n",
    "for i in range(len(dist)):\n",
    "    if dist[i] != 0:\n",
    "        if dist[i]<dist[t]:\n",
    "            t=i\n",
    "            \n",
    "show_digit(train_images, train_labels, t)"
   ]
  },
  {
   "cell_type": "code",
   "execution_count": 27,
   "metadata": {},
   "outputs": [
    {
     "name": "stderr",
     "output_type": "stream",
     "text": [
      "/Users/Meera/anaconda2/lib/python2.7/site-packages/ipykernel_launcher.py:11: FutureWarning: Method .as_matrix will be removed in a future version. Use .values instead.\n",
      "  # This is added back by InteractiveShellApp.init_path()\n"
     ]
    },
    {
     "data": {
      "image/png": "[encoded data removed]",
      "text/plain": [
       "<Figure size 432x288 with 1 Axes>"
      ]
     },
     "metadata": {},
     "output_type": "display_data"
    }
   ],
   "source": [
    "index = find_first_num(train_labels, 9)\n",
    "dist = distance.cdist(train_images, train_images.iloc[[index]], 'euclidean')\n",
    "\n",
    "t=0\n",
    "\n",
    "for i in range(len(dist)):\n",
    "    if dist[i] != 0:\n",
    "        if dist[i]<dist[t]:\n",
    "            t=i\n",
    "            \n",
    "show_digit(train_images, train_labels, t)"
   ]
  },
  {
   "cell_type": "code",
   "execution_count": 28,
   "metadata": {},
   "outputs": [],
   "source": [
    "# Question 1.(e) \n",
    "\n",
    "# to do a binary comparison between 0s and 1s, first extract a list of all the zeros in the training data, and then\n",
    "# extract a list of all the ones.\n",
    "\n",
    "list_ones = []\n",
    "for i in range(0,len(train_labels)):\n",
    "    if train_labels.iloc[i,0]==1:\n",
    "        list_ones.append(train_images.iloc[i])\n"
   ]
  },
  {
   "cell_type": "code",
   "execution_count": 29,
   "metadata": {},
   "outputs": [],
   "source": [
    "list_zeros = []\n",
    "for i in range(0,len(train_labels)):\n",
    "    if train_labels.iloc[i,0]==0:\n",
    "        list_zeros.append(train_images.iloc[i])\n"
   ]
  },
  {
   "cell_type": "code",
   "execution_count": 30,
   "metadata": {},
   "outputs": [],
   "source": [
    "import numpy as np"
   ]
  },
  {
   "cell_type": "code",
   "execution_count": 31,
   "metadata": {},
   "outputs": [],
   "source": [
    "# convert the lists into arrays so that we can use the cdist calculation on them for the euclidean distance\n",
    "array_ones=np.array(list_ones)\n",
    "array_zeros=np.array(list_zeros)"
   ]
  },
  {
   "cell_type": "code",
   "execution_count": 32,
   "metadata": {},
   "outputs": [],
   "source": [
    "# our \"Genuine\" distances will be the following distances appended:\n",
    "# ones to ones\n",
    "# zeros to zeros\n",
    "# our \"Imposter\" distances will be the following distances appended:\n",
    "# zeros to ones\n",
    "# ones to zeros\n",
    "\n",
    "distances_ones= distance.cdist(array_ones, array_ones, 'euclidean')\n",
    "distances_zeros= distance.cdist(array_zeros, array_zeros, 'euclidean')\n",
    "distances_oneszeros= distance.cdist(array_zeros, array_ones, 'euclidean')\n",
    "distances_zerosones= distance.cdist(array_zeros, array_ones, 'euclidean')"
   ]
  },
  {
   "cell_type": "code",
   "execution_count": 33,
   "metadata": {},
   "outputs": [],
   "source": [
    "tp_distances=np.append(distances_ones,distances_zeros)"
   ]
  },
  {
   "cell_type": "code",
   "execution_count": 34,
   "metadata": {},
   "outputs": [],
   "source": [
    "fp_distances = np.append(distances_oneszeros,distances_zerosones)"
   ]
  },
  {
   "cell_type": "code",
   "execution_count": 35,
   "metadata": {
    "scrolled": true
   },
   "outputs": [
    {
     "data": {
      "text/plain": [
       "<matplotlib.legend.Legend at 0x1a24f12e10>"
      ]
     },
     "execution_count": 35,
     "metadata": {},
     "output_type": "execute_result"
    },
    {
     "data": {
      "image/png": "[encoded data removed]",
      "text/plain": [
       "<Figure size 432x288 with 1 Axes>"
      ]
     },
     "metadata": {},
     "output_type": "display_data"
    }
   ],
   "source": [
    "# if we plot these distances onto a histogram, we can clearly see the distance spread of both genuine and imposter\n",
    "\n",
    "plt.hist([tp_distances,fp_distances], bins='auto', label=['genuine', 'imposters'])\n",
    "plt.legend()"
   ]
  },
  {
   "cell_type": "code",
   "execution_count": 36,
   "metadata": {},
   "outputs": [],
   "source": [
    "# Question 1.(f) \n",
    "\n",
    "# to plot the ROC curve, we first have to establish what our thresholds will be, and then calculate the TPR and FPR\n",
    "# at each threshold\n",
    "\n",
    "# we will use 10 thresholds 'x', iterated from 0 to the maximum distance of the two distance arrays\n",
    "max_dist = max(max(fp_distances),max(tp_distances))\n",
    "x = np.linspace(0, max_dist, num=10)"
   ]
  },
  {
   "cell_type": "code",
   "execution_count": 38,
   "metadata": {},
   "outputs": [],
   "source": [
    "TPR_list = []\n",
    "FPR_list = []\n",
    "\n",
    "for i in x:\n",
    "    \n",
    "    # set the conditions for what will be a TP, FP, TN, FN\n",
    "    cond1 = tp_distances > i\n",
    "    cond2 = fp_distances > i\n",
    "    \n",
    "    # count the values on each side of the threshold for each distance array\n",
    "    false_negative = list(cond1).count(True)\n",
    "    true_positive = list(cond1).count(False)\n",
    "    false_positive = list(cond2).count(False)\n",
    "    true_negative = list(cond2).count(True)\n",
    "    \n",
    "    # calculate the TPR and FPR\n",
    "    true_positive_rate = (float(true_positive) / float(true_positive + false_negative))\n",
    "    false_positive_rate = (float(false_positive) / float(true_negative + false_positive))\n",
    "    \n",
    "    # add the TPR and FPR at each threshold point so that we can plot it later\n",
    "    TPR_list.append(true_positive_rate)\n",
    "    FPR_list.append(false_positive_rate)"
   ]
  },
  {
   "cell_type": "code",
   "execution_count": 270,
   "metadata": {},
   "outputs": [
    {
     "data": {
      "text/plain": [
       "0.23156767637772474"
      ]
     },
     "execution_count": 270,
     "metadata": {},
     "output_type": "execute_result"
    }
   ],
   "source": [
    "area_under_curve = np.sum(TPR_list)/100\n",
    "area_under_curve"
   ]
  },
  {
   "cell_type": "code",
   "execution_count": 39,
   "metadata": {},
   "outputs": [
    {
     "data": {
      "text/plain": [
       "Text(0.5,0,'FPR')"
      ]
     },
     "execution_count": 39,
     "metadata": {},
     "output_type": "execute_result"
    },
    {
     "data": {
      "image/png": "[encoded data removed]",
      "text/plain": [
       "<Figure size 432x288 with 1 Axes>"
      ]
     },
     "metadata": {},
     "output_type": "display_data"
    }
   ],
   "source": [
    "# plot the ROC curve using the above calculated values\n",
    "\n",
    "plt.plot(FPR_list, TPR_list,'b')\n",
    "plt.title(\"ROC Curve\", fontsize=14)\n",
    "plt.ylabel('TPR', fontsize=12)\n",
    "plt.xlabel('FPR', fontsize=12)"
   ]
  },
  {
   "cell_type": "code",
   "execution_count": 40,
   "metadata": {},
   "outputs": [],
   "source": [
    "# Question 1.(g)\n",
    "\n",
    "# See below for our kNN Classifier. We were unable to get this to work correctly for the remaining questions in\n",
    "# assignment, so for the remaining questions in part 1 we have used the sklearn KNeighborsClassifier to determine\n",
    "# the predictions"
   ]
  },
  {
   "cell_type": "code",
   "execution_count": 41,
   "metadata": {
    "scrolled": true
   },
   "outputs": [],
   "source": [
    "# Question 1.(g) Build your own kNN classifier.\n",
    "def get_neighbors(trainer, labels, tester, k):\n",
    "    knn_dist = []\n",
    "    for x in range(len(trainer)):\n",
    "        new_dist = distance.cdist(tester, trainer.iloc[[x]], 'euclidean')\n",
    "        knn_dist.append([labels.iloc[x,0], new_dist])\n",
    "\n",
    "    knn_dist.sort(key=lambda x: x[1][0])\n",
    "    neighbors = knn_dist[:k]\n",
    "    return neighbors    "
   ]
  },
  {
   "cell_type": "code",
   "execution_count": 42,
   "metadata": {},
   "outputs": [],
   "source": [
    "from collections import Counter\n",
    "\n",
    "def majority(neighbors):\n",
    "    label_list = []\n",
    "    for i in range(len(neighbors)):\n",
    "        label_list.append(neighbors[i][0])\n",
    "    #print label_list \n",
    "\n",
    "    c = Counter(label_list)\n",
    "    c.most_common()\n",
    "    value, count = c.most_common()[0]\n",
    "    return value"
   ]
  },
  {
   "cell_type": "code",
   "execution_count": 43,
   "metadata": {},
   "outputs": [
    {
     "name": "stderr",
     "output_type": "stream",
     "text": [
      "/Users/Meera/anaconda2/lib/python2.7/site-packages/sklearn/model_selection/_split.py:2026: FutureWarning: From version 0.21, test_size will always complement train_size unless both are specified.\n",
      "  FutureWarning)\n"
     ]
    }
   ],
   "source": [
    "# Question 1.(h)\n",
    "\n",
    "# split the train data into training and testing values\n",
    "new_train_images, new_test_images,new_train_labels, new_test_labels = train_test_split(train_images, train_labels, train_size=0.5, random_state=0)"
   ]
  },
  {
   "cell_type": "code",
   "execution_count": 44,
   "metadata": {},
   "outputs": [
    {
     "name": "stderr",
     "output_type": "stream",
     "text": [
      "/Users/Meera/anaconda2/lib/python2.7/site-packages/ipykernel_launcher.py:5: DataConversionWarning: A column-vector y was passed when a 1d array was expected. Please change the shape of y to (n_samples, ), for example using ravel().\n",
      "  \"\"\"\n"
     ]
    },
    {
     "data": {
      "text/plain": [
       "KNeighborsClassifier(algorithm='auto', leaf_size=30, metric='minkowski',\n",
       "           metric_params=None, n_jobs=1, n_neighbors=10, p=2,\n",
       "           weights='uniform')"
      ]
     },
     "execution_count": 44,
     "metadata": {},
     "output_type": "execute_result"
    }
   ],
   "source": [
    "# Due to issues encountered in 1.(g), we have used the sklearn KNeighborsClassifier for this question.\n",
    "\n",
    "from sklearn.neighbors import KNeighborsClassifier\n",
    "model = KNeighborsClassifier(10)\n",
    "model.fit(new_train_images, new_train_labels)"
   ]
  },
  {
   "cell_type": "code",
   "execution_count": 45,
   "metadata": {},
   "outputs": [],
   "source": [
    "pred=model.predict(new_test_images)"
   ]
  },
  {
   "cell_type": "code",
   "execution_count": 46,
   "metadata": {},
   "outputs": [
    {
     "name": "stdout",
     "output_type": "stream",
     "text": [
      "[3 6 9 ... 5 8 6]\n"
     ]
    }
   ],
   "source": [
    "print(pred)"
   ]
  },
  {
   "cell_type": "code",
   "execution_count": 47,
   "metadata": {},
   "outputs": [
    {
     "name": "stdout",
     "output_type": "stream",
     "text": [
      "[[193 261 207 212 199 181 220 211 188 196]\n",
      " [242 279 231 235 213 207 239 220 202 261]\n",
      " [206 236 183 203 195 174 234 219 177 218]\n",
      " [210 251 198 196 209 185 218 234 223 236]\n",
      " [211 232 185 203 176 181 201 235 193 229]\n",
      " [219 199 184 220 190 157 197 188 165 182]\n",
      " [189 248 212 224 172 192 211 213 181 218]\n",
      " [220 280 244 240 197 167 234 218 185 225]\n",
      " [225 237 202 226 180 190 175 234 184 219]\n",
      " [214 279 210 209 195 176 209 217 186 214]]\n"
     ]
    }
   ],
   "source": [
    "# Question 1.(i) \n",
    "\n",
    "# generate a confusion matrix\n",
    "\n",
    "from sklearn.metrics import classification_report, confusion_matrix\n",
    "print(confusion_matrix(new_train_labels, pred))"
   ]
  },
  {
   "cell_type": "code",
   "execution_count": 48,
   "metadata": {},
   "outputs": [
    {
     "data": {
      "text/plain": [
       "0.9525714285714286"
      ]
     },
     "execution_count": 48,
     "metadata": {},
     "output_type": "execute_result"
    }
   ],
   "source": [
    "# check the accuracy of your model\n",
    "\n",
    "model.score(new_test_images,new_test_labels)"
   ]
  },
  {
   "cell_type": "code",
   "execution_count": 49,
   "metadata": {},
   "outputs": [],
   "source": [
    "# test with the given test data from Kaggle\n",
    "\n",
    "test_data = pd.read_csv('test.csv')\n",
    "test_data[test_data > 0] = 1\n",
    "results = model.predict(test_data)"
   ]
  },
  {
   "cell_type": "code",
   "execution_count": 50,
   "metadata": {},
   "outputs": [],
   "source": [
    "# save the results into a csv file to submit to Kaggle\n",
    "\n",
    "df = pd.DataFrame(results)\n",
    "df.index.name='ImageId'\n",
    "df.index+=1\n",
    "df.columns=['Label']\n",
    "df.to_csv('HW1_part1_results.csv', header=True)"
   ]
  },
  {
   "cell_type": "code",
   "execution_count": null,
   "metadata": {},
   "outputs": [],
   "source": []
  }
 ],
 "metadata": {
  "kernelspec": {
   "display_name": "Python 2",
   "language": "python",
   "name": "python2"
  }
 },
 "nbformat": 4,
 "nbformat_minor": 2
}
